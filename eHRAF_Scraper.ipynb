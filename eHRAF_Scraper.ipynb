{
 "cells": [
  {
   "cell_type": "code",
   "execution_count": 1,
   "metadata": {},
   "outputs": [],
   "source": [
    "# load necessary packages\n",
    "import pandas as pd                 # dataframe storing\n",
    "from bs4 import BeautifulSoup       # parsing web content in a nice way\n",
    "import ssl                          # MAY BE UNNECESSARY: provides access to the security socket layer (ssl) https://docs.python.org/3/library/ssl.html\n",
    "import urllib                       # open and navigate URL's\n"
   ]
  },
  {
   "cell_type": "code",
   "execution_count": 2,
   "metadata": {},
   "outputs": [],
   "source": [
    "# This is a dummy URL that links to the eHRAF page. \n",
    "# Later I will set this up to allow for modular querying\n",
    "# Search for Apple in PSF\n",
    "url = 'https://ehrafworldcultures.yale.edu/search?q=text%3AApple&fq=culture_level_samples%7CPSF'"
   ]
  },
  {
   "cell_type": "code",
   "execution_count": 13,
   "metadata": {},
   "outputs": [
    {
     "name": "stderr",
     "output_type": "stream",
     "text": [
      "/var/folders/r8/j6vx966d5rj6srtb4x895kvr0000gp/T/ipykernel_88084/3902438760.py:1: DeprecationWarning: ssl.PROTOCOL_TLS is deprecated\n",
      "  with urllib.request.urlopen(url, context=ssl.SSLContext(ssl.PROTOCOL_TLS), timeout = 5) as response:\n"
     ]
    }
   ],
   "source": [
    "\n",
    "\n",
    "# read in the url (timeout set at 5 seconds as precuation but is optional)\n",
    "#read the response into soup for web parsing\n",
    "with urllib.request.urlopen(url, context=ssl.SSLContext(ssl.PROTOCOL_TLS), timeout = 5) as response:\n",
    "    soup = BeautifulSoup(response.read())\n",
    "\n"
   ]
  },
  {
   "cell_type": "code",
   "execution_count": 16,
   "metadata": {},
   "outputs": [
    {
     "name": "stdout",
     "output_type": "stream",
     "text": [
      "div\n",
      "script\n"
     ]
    }
   ],
   "source": [
    "import bs4.element as element       # set as element for easier indexing through the webpage\n",
    "\n",
    "\n",
    "web_body_child_tags = list(filter(lambda x: type(x) == element.Tag, soup.body.children))\n",
    "len(web_body_child_tags)\n",
    "for x in web_body_child_tags:\n",
    "    print(x.name)"
   ]
  },
  {
   "cell_type": "code",
   "execution_count": 20,
   "metadata": {},
   "outputs": [
    {
     "name": "stdout",
     "output_type": "stream",
     "text": [
      "div\n"
     ]
    }
   ],
   "source": [
    "for x in soup.body.div.children:\n",
    "    print(x.name)"
   ]
  },
  {
   "cell_type": "code",
   "execution_count": 46,
   "metadata": {},
   "outputs": [
    {
     "data": {
      "text/plain": [
       "[<div class=\"results__container hierarchy\"><section class=\"mdc-card not-found\"><div class=\"mdc-card__media\"><h2 class=\"mdc-typography--headline5\">Viewing Your Search Results</h2><p>Once you have submitted a search, your results will display in the lower half of the page.</p><p>You can also explore your results in one of the following ways using the <strong>Insights</strong> options near the top of the page:</p><ul><li><strong> Table Overview</strong>: Displays the total number of results by regions, subregions, cultures, documents, and paragraphs.</li><li><strong>Cloud Overview</strong>: Represents the subjects associated with your search in a word cloud.</li><li><strong>Map Overview</strong>: Pinpoints the geographic location of cultures associate with your search.</li></ul></div></section></div>]"
      ]
     },
     "execution_count": 46,
     "metadata": {},
     "output_type": "execute_result"
    }
   ],
   "source": [
    "tables_more_specific = soup.find_all('div',\n",
    "{'class':'results__container hierarchy'})\n",
    "tables_more_specific\n",
    "\n",
    "# for x in tables_more_specific:\n",
    "#     for y in x.children:\n",
    "#         print(y.name)"
   ]
  },
  {
   "cell_type": "code",
   "execution_count": null,
   "metadata": {},
   "outputs": [],
   "source": [
    "#REDO all over again, let's try using selenium. If you are reading this and the above section is not deleted... delete it\n"
   ]
  },
  {
   "cell_type": "code",
   "execution_count": 2,
   "metadata": {},
   "outputs": [],
   "source": [
    "import pandas as pd                 # dataframe storing\n",
    "from bs4 import BeautifulSoup       # parsing web content in a nice way\n",
    "import ssl                          # MAY BE UNNECESSARY: provides access to the security socket layer (ssl) https://docs.python.org/3/library/ssl.html\n",
    "import urllib                       # open and navigate URL's\n",
    "\n",
    "\n",
    "from selenium import webdriver      # load and run the webpage dynamically.\n",
    "#from selenium.webdriver.chrome.options import Options\n",
    "\n"
   ]
  },
  {
   "cell_type": "code",
   "execution_count": 43,
   "metadata": {},
   "outputs": [],
   "source": [
    "# Use a \"headless\" Chrome page to dynamically load the page for scraping. \n",
    "# Requires webdriver to be downloaded and then its path directed to\n",
    "path = \"/Users/ericchantland/Documents/GitHub/Boyer_eHRAF_Misery/Chromedriver\"\n",
    "driver = webdriver.Chrome(executable_path = path)\n",
    "\n",
    "\n",
    "# Load the HTML page\n",
    "driver.get('https://ehrafworldcultures.yale.edu/search?q=text%3AApple&fq=culture_level_samples%7CPSF')\n",
    "\n",
    "# Find the click on each tab to reveal content for scraping\n",
    "# Elements must be individually clicked backwards. I do not know why this is a thing but my guess is each \n",
    "# clicked tab adds HTML and makes some indexing no longer point to retrived tab. Loading backwards avoids this.\n",
    "country_tab = driver.find_elements_by_class_name('trad-overview__result')\n",
    "for i in range(len(country_tab)-1,-1,-1):\n",
    "    try:\n",
    "        country_tab[i].click()\n",
    "    except:\n",
    "        print(f\"WARNING tab {i} failed to be clicked\")\n",
    "\n",
    "# Parse processed webpage with BeautifulSoup\n",
    "soup = BeautifulSoup(driver.page_source)\n",
    "\n"
   ]
  },
  {
   "cell_type": "code",
   "execution_count": 44,
   "metadata": {},
   "outputs": [],
   "source": [
    "\n",
    "\n",
    "\n",
    "\n"
   ]
  },
  {
   "cell_type": "code",
   "execution_count": 20,
   "metadata": {},
   "outputs": [
    {
     "name": "stdout",
     "output_type": "stream",
     "text": [
      "Africa\n",
      "Asia\n",
      "Europe\n",
      "Middle America and the Caribbean\n",
      "Middle East\n",
      "North America\n",
      "Oceania\n",
      "South America\n"
     ]
    }
   ],
   "source": [
    "#Example of finding then printing out the dynamic webpage (before clicking). Shown here are the continents\n",
    "continent_dir = soup.find_all('div',\n",
    "{'class':'trad-overview__result'})\n",
    "\n",
    "for x in continent_dir:\n",
    "    print(x.h4.button.text)\n",
    "\n",
    "### FOR REFERENCE, DELETE\n",
    "# results_container = tables_more_specific[0].children\n",
    "\n",
    "# for x in results_container:\n",
    "#     print(x.name)"
   ]
  },
  {
   "cell_type": "code",
   "execution_count": 21,
   "metadata": {},
   "outputs": [
    {
     "data": {
      "text/plain": [
       "1"
      ]
     },
     "execution_count": 21,
     "metadata": {},
     "output_type": "execute_result"
    }
   ],
   "source": [
    "continent_dir = soup.find_all('div',\n",
    "{'class':'trad-overview__table'})\n",
    "len(continent_dir)\n",
    "#mdc-data-table__content"
   ]
  },
  {
   "cell_type": "code",
   "execution_count": null,
   "metadata": {},
   "outputs": [],
   "source": []
  }
 ],
 "metadata": {
  "kernelspec": {
   "display_name": "Python 3.10.6",
   "language": "python",
   "name": "python3"
  },
  "language_info": {
   "codemirror_mode": {
    "name": "ipython",
    "version": 3
   },
   "file_extension": ".py",
   "mimetype": "text/x-python",
   "name": "python",
   "nbconvert_exporter": "python",
   "pygments_lexer": "ipython3",
   "version": "3.10.6"
  },
  "orig_nbformat": 4,
  "vscode": {
   "interpreter": {
    "hash": "3394e5ff5e37174aec0305e0ed7ec30b336f01a56a90646f493ecbcd8deec75b"
   }
  }
 },
 "nbformat": 4,
 "nbformat_minor": 2
}
