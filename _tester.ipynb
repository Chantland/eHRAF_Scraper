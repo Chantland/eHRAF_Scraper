{
 "cells": [
  {
   "cell_type": "code",
   "execution_count": 4,
   "metadata": {},
   "outputs": [],
   "source": [
    "import pandas as pd"
   ]
  },
  {
   "cell_type": "code",
   "execution_count": 5,
   "metadata": {},
   "outputs": [],
   "source": [
    "data = range(0,100_000)"
   ]
  },
  {
   "cell_type": "code",
   "execution_count": 14,
   "metadata": {},
   "outputs": [],
   "source": [
    "list_append1=[]\n",
    "list_append2=[]\n",
    "list_append3=[]\n",
    "list_append4=[]\n",
    "list_append5=[]\n",
    "df_list = pd.DataFrame({\"DF1\":[],\"DF2\":[],\"DF3\":[],\"DF4\":[],\"DF5\":[]})\n",
    "for i in range(0,len(data)):\n",
    "    list_append1.append(data[i])\n",
    "    list_append2.append(data[i])\n",
    "    list_append3.append(data[i])\n",
    "    list_append4.append(data[i])\n",
    "    list_append5.append(data[i])\n",
    "df_list = pd.DataFrame({\"DF1\":list_append1,\"DF2\":list_append2,\"DF3\":list_append3,\"DF4\":list_append4,\"DF5\":list_append5})"
   ]
  },
  {
   "cell_type": "code",
   "execution_count": 18,
   "metadata": {},
   "outputs": [],
   "source": [
    "df_df_add = pd.DataFrame({\"DF1\":[],\"DF2\":[],\"DF3\":[],\"DF4\":[],\"DF5\":[]})\n",
    "df_df = pd.DataFrame({\"DF1\":[],\"DF2\":[],\"DF3\":[],\"DF4\":[],\"DF5\":[]})\n",
    "for j in range(0,len(data)):\n",
    "    var1 = data[j]\n",
    "    var2 = data[j]\n",
    "    var3 = data[j]\n",
    "    var4 = data[j]\n",
    "    var5 = data[j]\n",
    "    df_df_add = pd.DataFrame({\"DF1\":[var1],\"DF2\":[var2],\"DF3\":[var3],\"DF4\":[var4],\"DF5\":[var5]})\n",
    "    df_df = pd.concat([df_df,df_df_add], ignore_index=True )"
   ]
  },
  {
   "cell_type": "code",
   "execution_count": 23,
   "metadata": {},
   "outputs": [
    {
     "data": {
      "text/plain": [
       "DF1    100000\n",
       "DF2    100000\n",
       "DF3    100000\n",
       "DF4    100000\n",
       "DF5    100000\n",
       "dtype: int64"
      ]
     },
     "execution_count": 23,
     "metadata": {},
     "output_type": "execute_result"
    }
   ],
   "source": [
    "x = df_df == df_list\n",
    "x.sum()"
   ]
  },
  {
   "cell_type": "code",
   "execution_count": 9,
   "metadata": {},
   "outputs": [],
   "source": [
    "del list_append1, list_append2, list_append3, list_append4, list_append5\n",
    "del var1, var2, var3, var4, var5\n",
    "del df_df, df_df_add, df_list"
   ]
  }
 ],
 "metadata": {
  "kernelspec": {
   "display_name": "Python 3.10.6",
   "language": "python",
   "name": "python3"
  },
  "language_info": {
   "codemirror_mode": {
    "name": "ipython",
    "version": 3
   },
   "file_extension": ".py",
   "mimetype": "text/x-python",
   "name": "python",
   "nbconvert_exporter": "python",
   "pygments_lexer": "ipython3",
   "version": "3.10.6"
  },
  "orig_nbformat": 4,
  "vscode": {
   "interpreter": {
    "hash": "3394e5ff5e37174aec0305e0ed7ec30b336f01a56a90646f493ecbcd8deec75b"
   }
  }
 },
 "nbformat": 4,
 "nbformat_minor": 2
}
