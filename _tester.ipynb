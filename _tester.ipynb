{
 "cells": [
  {
   "cell_type": "code",
   "execution_count": 4,
   "metadata": {},
   "outputs": [],
   "source": [
    "import pandas as pd"
   ]
  },
  {
   "cell_type": "code",
   "execution_count": 5,
   "metadata": {},
   "outputs": [],
   "source": [
    "data = range(0,100_000)"
   ]
  },
  {
   "cell_type": "code",
   "execution_count": 14,
   "metadata": {},
   "outputs": [],
   "source": [
    "list_append1=[]\n",
    "list_append2=[]\n",
    "list_append3=[]\n",
    "list_append4=[]\n",
    "list_append5=[]\n",
    "df_list = pd.DataFrame({\"DF1\":[],\"DF2\":[],\"DF3\":[],\"DF4\":[],\"DF5\":[]})\n",
    "for i in range(0,len(data)):\n",
    "    list_append1.append(data[i])\n",
    "    list_append2.append(data[i])\n",
    "    list_append3.append(data[i])\n",
    "    list_append4.append(data[i])\n",
    "    list_append5.append(data[i])\n",
    "df_list = pd.DataFrame({\"DF1\":list_append1,\"DF2\":list_append2,\"DF3\":list_append3,\"DF4\":list_append4,\"DF5\":list_append5})"
   ]
  },
  {
   "cell_type": "code",
   "execution_count": 18,
   "metadata": {},
   "outputs": [],
   "source": [
    "df_df_add = pd.DataFrame({\"DF1\":[],\"DF2\":[],\"DF3\":[],\"DF4\":[],\"DF5\":[]})\n",
    "df_df = pd.DataFrame({\"DF1\":[],\"DF2\":[],\"DF3\":[],\"DF4\":[],\"DF5\":[]})\n",
    "for j in range(0,len(data)):\n",
    "    var1 = data[j]\n",
    "    var2 = data[j]\n",
    "    var3 = data[j]\n",
    "    var4 = data[j]\n",
    "    var5 = data[j]\n",
    "    df_df_add = pd.DataFrame({\"DF1\":[var1],\"DF2\":[var2],\"DF3\":[var3],\"DF4\":[var4],\"DF5\":[var5]})\n",
    "    df_df = pd.concat([df_df,df_df_add], ignore_index=True )"
   ]
  },
  {
   "cell_type": "code",
   "execution_count": 23,
   "metadata": {},
   "outputs": [
    {
     "data": {
      "text/plain": [
       "DF1    100000\n",
       "DF2    100000\n",
       "DF3    100000\n",
       "DF4    100000\n",
       "DF5    100000\n",
       "dtype: int64"
      ]
     },
     "execution_count": 23,
     "metadata": {},
     "output_type": "execute_result"
    }
   ],
   "source": [
    "x = df_df == df_list\n",
    "x.sum()"
   ]
  },
  {
   "cell_type": "code",
   "execution_count": 9,
   "metadata": {},
   "outputs": [],
   "source": [
    "del list_append1, list_append2, list_append3, list_append4, list_append5\n",
    "del var1, var2, var3, var4, var5\n",
    "del df_df, df_df_add, df_list"
   ]
  },
  {
   "cell_type": "code",
   "execution_count": 10,
   "metadata": {},
   "outputs": [],
   "source": [
    "import pandas as pd\n",
    "df_ocm = pd.read_excel('Resources/OCM_Codes.xlsx')"
   ]
  },
  {
   "cell_type": "code",
   "execution_count": 41,
   "metadata": {},
   "outputs": [
    {
     "data": {
      "text/html": [
       "<div>\n",
       "<style scoped>\n",
       "    .dataframe tbody tr th:only-of-type {\n",
       "        vertical-align: middle;\n",
       "    }\n",
       "\n",
       "    .dataframe tbody tr th {\n",
       "        vertical-align: top;\n",
       "    }\n",
       "\n",
       "    .dataframe thead th {\n",
       "        text-align: right;\n",
       "    }\n",
       "</style>\n",
       "<table border=\"1\" class=\"dataframe\">\n",
       "  <thead>\n",
       "    <tr style=\"text-align: right;\">\n",
       "      <th></th>\n",
       "      <th>OCM</th>\n",
       "      <th>Meaning</th>\n",
       "    </tr>\n",
       "  </thead>\n",
       "  <tbody>\n",
       "    <tr>\n",
       "      <th>605</th>\n",
       "      <td>750</td>\n",
       "      <td>sickness</td>\n",
       "    </tr>\n",
       "  </tbody>\n",
       "</table>\n",
       "</div>"
      ],
      "text/plain": [
       "     OCM   Meaning\n",
       "605  750  sickness"
      ]
     },
     "execution_count": 41,
     "metadata": {},
     "output_type": "execute_result"
    }
   ],
   "source": [
    "x = df_ocm[df_ocm['OCM'].isin([750])]\n",
    "x"
   ]
  },
  {
   "cell_type": "code",
   "execution_count": 33,
   "metadata": {},
   "outputs": [
    {
     "data": {
      "text/plain": [
       "True"
      ]
     },
     "execution_count": 33,
     "metadata": {},
     "output_type": "execute_result"
    }
   ],
   "source": [
    "750 in df_ocm['OCM'].unique()"
   ]
  },
  {
   "cell_type": "code",
   "execution_count": 20,
   "metadata": {},
   "outputs": [
    {
     "data": {
      "text/plain": [
       "False"
      ]
     },
     "execution_count": 20,
     "metadata": {},
     "output_type": "execute_result"
    }
   ],
   "source": [
    "\n",
    "xx = \"750s\"\n",
    "xx.isnumeric()"
   ]
  },
  {
   "cell_type": "code",
   "execution_count": 67,
   "metadata": {},
   "outputs": [],
   "source": [
    "df_cult = pd.read_excel('Resources/Culture_Names.xlsx')"
   ]
  },
  {
   "cell_type": "code",
   "execution_count": 47,
   "metadata": {},
   "outputs": [
    {
     "data": {
      "text/html": [
       "<div>\n",
       "<style scoped>\n",
       "    .dataframe tbody tr th:only-of-type {\n",
       "        vertical-align: middle;\n",
       "    }\n",
       "\n",
       "    .dataframe tbody tr th {\n",
       "        vertical-align: top;\n",
       "    }\n",
       "\n",
       "    .dataframe thead th {\n",
       "        text-align: right;\n",
       "    }\n",
       "</style>\n",
       "<table border=\"1\" class=\"dataframe\">\n",
       "  <thead>\n",
       "    <tr style=\"text-align: right;\">\n",
       "      <th></th>\n",
       "      <th>Region</th>\n",
       "      <th>SubRegion</th>\n",
       "      <th>Culture</th>\n",
       "    </tr>\n",
       "  </thead>\n",
       "  <tbody>\n",
       "    <tr>\n",
       "      <th>0</th>\n",
       "      <td>africa</td>\n",
       "      <td>central africa</td>\n",
       "      <td>azande</td>\n",
       "    </tr>\n",
       "    <tr>\n",
       "      <th>1</th>\n",
       "      <td>africa</td>\n",
       "      <td>central africa</td>\n",
       "      <td>barundi</td>\n",
       "    </tr>\n",
       "    <tr>\n",
       "      <th>2</th>\n",
       "      <td>africa</td>\n",
       "      <td>central africa</td>\n",
       "      <td>masa</td>\n",
       "    </tr>\n",
       "    <tr>\n",
       "      <th>3</th>\n",
       "      <td>africa</td>\n",
       "      <td>central africa</td>\n",
       "      <td>mbuti</td>\n",
       "    </tr>\n",
       "    <tr>\n",
       "      <th>4</th>\n",
       "      <td>africa</td>\n",
       "      <td>central africa</td>\n",
       "      <td>mongo</td>\n",
       "    </tr>\n",
       "    <tr>\n",
       "      <th>...</th>\n",
       "      <td>...</td>\n",
       "      <td>...</td>\n",
       "      <td>...</td>\n",
       "    </tr>\n",
       "    <tr>\n",
       "      <th>356</th>\n",
       "      <td>south-america</td>\n",
       "      <td>southern south america</td>\n",
       "      <td>mataco</td>\n",
       "    </tr>\n",
       "    <tr>\n",
       "      <th>357</th>\n",
       "      <td>south-america</td>\n",
       "      <td>southern south america</td>\n",
       "      <td>ona</td>\n",
       "    </tr>\n",
       "    <tr>\n",
       "      <th>358</th>\n",
       "      <td>south-america</td>\n",
       "      <td>southern south america</td>\n",
       "      <td>tehuelche</td>\n",
       "    </tr>\n",
       "    <tr>\n",
       "      <th>359</th>\n",
       "      <td>south-america</td>\n",
       "      <td>southern south america</td>\n",
       "      <td>terena</td>\n",
       "    </tr>\n",
       "    <tr>\n",
       "      <th>360</th>\n",
       "      <td>south-america</td>\n",
       "      <td>southern south america</td>\n",
       "      <td>yahgan</td>\n",
       "    </tr>\n",
       "  </tbody>\n",
       "</table>\n",
       "<p>361 rows × 3 columns</p>\n",
       "</div>"
      ],
      "text/plain": [
       "            Region               SubRegion    Culture\n",
       "0           africa          central africa     azande\n",
       "1           africa          central africa    barundi\n",
       "2           africa          central africa       masa\n",
       "3           africa          central africa      mbuti\n",
       "4           africa          central africa      mongo\n",
       "..             ...                     ...        ...\n",
       "356  south-america  southern south america     mataco\n",
       "357  south-america  southern south america        ona\n",
       "358  south-america  southern south america  tehuelche\n",
       "359  south-america  southern south america     terena\n",
       "360  south-america  southern south america     yahgan\n",
       "\n",
       "[361 rows x 3 columns]"
      ]
     },
     "execution_count": 47,
     "metadata": {},
     "output_type": "execute_result"
    }
   ],
   "source": [
    "df_cult"
   ]
  },
  {
   "cell_type": "code",
   "execution_count": 68,
   "metadata": {},
   "outputs": [],
   "source": [
    "df_cult['Culture'] = df_cult.Culture.apply(lambda x: list(x))\n",
    "df_cult_word =  df_cult.explode(column='Culture')"
   ]
  },
  {
   "cell_type": "code",
   "execution_count": 72,
   "metadata": {},
   "outputs": [
    {
     "data": {
      "text/plain": [
       "a    462\n",
       "n    240\n",
       "i    233\n",
       "e    207\n",
       "s    190\n",
       "o    179\n",
       "r    168\n",
       "u    153\n",
       "t    120\n",
       "l    109\n",
       "m    108\n",
       "h    106\n",
       "c     96\n",
       "      90\n",
       "k     84\n",
       "b     82\n",
       "g     53\n",
       "d     51\n",
       "p     46\n",
       "y     38\n",
       "w     27\n",
       "z     18\n",
       "v     18\n",
       "f     17\n",
       "j     17\n",
       "q     13\n",
       "-      7\n",
       "x      6\n",
       "1      6\n",
       "(      5\n",
       ")      5\n",
       "é      3\n",
       "4      2\n",
       "8      2\n",
       "5      2\n",
       "ó      2\n",
       "'      2\n",
       "/      2\n",
       "á      2\n",
       "0      1\n",
       "7      1\n",
       "3      1\n",
       "6      1\n",
       "í      1\n",
       "Name: Culture, dtype: int64"
      ]
     },
     "execution_count": 72,
     "metadata": {},
     "output_type": "execute_result"
    }
   ],
   "source": [
    "x = df_cult_word[\"Culture\"].value_counts()\n",
    "x"
   ]
  },
  {
   "cell_type": "code",
   "execution_count": 48,
   "metadata": {},
   "outputs": [
    {
     "data": {
      "text/plain": [
       "[['q', 'w', 'e'], ['r', 't', 'y']]"
      ]
     },
     "execution_count": 48,
     "metadata": {},
     "output_type": "execute_result"
    }
   ],
   "source": [
    "x = [['q','w','e']]\n",
    "y = ['r','t','y']\n",
    "x.append(y)\n",
    "x"
   ]
  },
  {
   "cell_type": "code",
   "execution_count": 51,
   "metadata": {},
   "outputs": [
    {
     "data": {
      "text/plain": [
       "['r', 'd', 'd']"
      ]
     },
     "execution_count": 51,
     "metadata": {},
     "output_type": "execute_result"
    }
   ],
   "source": [
    "xx = 'rdd'\n",
    "xx = list(xx)\n",
    "xx"
   ]
  }
 ],
 "metadata": {
  "kernelspec": {
   "display_name": "CSE801",
   "language": "python",
   "name": "python3"
  },
  "language_info": {
   "codemirror_mode": {
    "name": "ipython",
    "version": 3
   },
   "file_extension": ".py",
   "mimetype": "text/x-python",
   "name": "python",
   "nbconvert_exporter": "python",
   "pygments_lexer": "ipython3",
   "version": "3.8.12"
  },
  "orig_nbformat": 4,
  "vscode": {
   "interpreter": {
    "hash": "9d2105468db585d0e39a7b468770c977e7968f4fbe71b0d53ba3d194f1937fbe"
   }
  }
 },
 "nbformat": 4,
 "nbformat_minor": 2
}
