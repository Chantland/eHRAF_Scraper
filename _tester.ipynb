{
 "cells": [
  {
   "cell_type": "code",
   "execution_count": 4,
   "metadata": {},
   "outputs": [],
   "source": [
    "import pandas as pd"
   ]
  },
  {
   "cell_type": "code",
   "execution_count": 5,
   "metadata": {},
   "outputs": [],
   "source": [
    "data = range(0,100_000)"
   ]
  },
  {
   "cell_type": "code",
   "execution_count": 14,
   "metadata": {},
   "outputs": [],
   "source": [
    "list_append1=[]\n",
    "list_append2=[]\n",
    "list_append3=[]\n",
    "list_append4=[]\n",
    "list_append5=[]\n",
    "df_list = pd.DataFrame({\"DF1\":[],\"DF2\":[],\"DF3\":[],\"DF4\":[],\"DF5\":[]})\n",
    "for i in range(0,len(data)):\n",
    "    list_append1.append(data[i])\n",
    "    list_append2.append(data[i])\n",
    "    list_append3.append(data[i])\n",
    "    list_append4.append(data[i])\n",
    "    list_append5.append(data[i])\n",
    "df_list = pd.DataFrame({\"DF1\":list_append1,\"DF2\":list_append2,\"DF3\":list_append3,\"DF4\":list_append4,\"DF5\":list_append5})"
   ]
  },
  {
   "cell_type": "code",
   "execution_count": 18,
   "metadata": {},
   "outputs": [],
   "source": [
    "df_df_add = pd.DataFrame({\"DF1\":[],\"DF2\":[],\"DF3\":[],\"DF4\":[],\"DF5\":[]})\n",
    "df_df = pd.DataFrame({\"DF1\":[],\"DF2\":[],\"DF3\":[],\"DF4\":[],\"DF5\":[]})\n",
    "for j in range(0,len(data)):\n",
    "    var1 = data[j]\n",
    "    var2 = data[j]\n",
    "    var3 = data[j]\n",
    "    var4 = data[j]\n",
    "    var5 = data[j]\n",
    "    df_df_add = pd.DataFrame({\"DF1\":[var1],\"DF2\":[var2],\"DF3\":[var3],\"DF4\":[var4],\"DF5\":[var5]})\n",
    "    df_df = pd.concat([df_df,df_df_add], ignore_index=True )"
   ]
  },
  {
   "cell_type": "code",
   "execution_count": 23,
   "metadata": {},
   "outputs": [
    {
     "data": {
      "text/plain": [
       "DF1    100000\n",
       "DF2    100000\n",
       "DF3    100000\n",
       "DF4    100000\n",
       "DF5    100000\n",
       "dtype: int64"
      ]
     },
     "execution_count": 23,
     "metadata": {},
     "output_type": "execute_result"
    }
   ],
   "source": [
    "x = df_df == df_list\n",
    "x.sum()"
   ]
  },
  {
   "cell_type": "code",
   "execution_count": 9,
   "metadata": {},
   "outputs": [],
   "source": [
    "del list_append1, list_append2, list_append3, list_append4, list_append5\n",
    "del var1, var2, var3, var4, var5\n",
    "del df_df, df_df_add, df_list"
   ]
  },
  {
   "cell_type": "code",
   "execution_count": 10,
   "metadata": {},
   "outputs": [],
   "source": [
    "import pandas as pd\n",
    "df_ocm = pd.read_excel('Resources/OCM_Codes.xlsx')"
   ]
  },
  {
   "cell_type": "code",
   "execution_count": 41,
   "metadata": {},
   "outputs": [
    {
     "data": {
      "text/html": [
       "<div>\n",
       "<style scoped>\n",
       "    .dataframe tbody tr th:only-of-type {\n",
       "        vertical-align: middle;\n",
       "    }\n",
       "\n",
       "    .dataframe tbody tr th {\n",
       "        vertical-align: top;\n",
       "    }\n",
       "\n",
       "    .dataframe thead th {\n",
       "        text-align: right;\n",
       "    }\n",
       "</style>\n",
       "<table border=\"1\" class=\"dataframe\">\n",
       "  <thead>\n",
       "    <tr style=\"text-align: right;\">\n",
       "      <th></th>\n",
       "      <th>OCM</th>\n",
       "      <th>Meaning</th>\n",
       "    </tr>\n",
       "  </thead>\n",
       "  <tbody>\n",
       "    <tr>\n",
       "      <th>605</th>\n",
       "      <td>750</td>\n",
       "      <td>sickness</td>\n",
       "    </tr>\n",
       "  </tbody>\n",
       "</table>\n",
       "</div>"
      ],
      "text/plain": [
       "     OCM   Meaning\n",
       "605  750  sickness"
      ]
     },
     "execution_count": 41,
     "metadata": {},
     "output_type": "execute_result"
    }
   ],
   "source": [
    "x = df_ocm[df_ocm['OCM'].isin([750])]\n",
    "x"
   ]
  },
  {
   "cell_type": "code",
   "execution_count": 33,
   "metadata": {},
   "outputs": [
    {
     "data": {
      "text/plain": [
       "True"
      ]
     },
     "execution_count": 33,
     "metadata": {},
     "output_type": "execute_result"
    }
   ],
   "source": [
    "750 in df_ocm['OCM'].unique()"
   ]
  },
  {
   "cell_type": "code",
   "execution_count": 20,
   "metadata": {},
   "outputs": [
    {
     "data": {
      "text/plain": [
       "False"
      ]
     },
     "execution_count": 20,
     "metadata": {},
     "output_type": "execute_result"
    }
   ],
   "source": [
    "\n",
    "xx = \"750s\"\n",
    "xx.isnumeric()"
   ]
  },
  {
   "cell_type": "code",
   "execution_count": 67,
   "metadata": {},
   "outputs": [],
   "source": [
    "df_cult = pd.read_excel('Resources/Culture_Names.xlsx')"
   ]
  },
  {
   "cell_type": "code",
   "execution_count": 47,
   "metadata": {},
   "outputs": [
    {
     "data": {
      "text/html": [
       "<div>\n",
       "<style scoped>\n",
       "    .dataframe tbody tr th:only-of-type {\n",
       "        vertical-align: middle;\n",
       "    }\n",
       "\n",
       "    .dataframe tbody tr th {\n",
       "        vertical-align: top;\n",
       "    }\n",
       "\n",
       "    .dataframe thead th {\n",
       "        text-align: right;\n",
       "    }\n",
       "</style>\n",
       "<table border=\"1\" class=\"dataframe\">\n",
       "  <thead>\n",
       "    <tr style=\"text-align: right;\">\n",
       "      <th></th>\n",
       "      <th>Region</th>\n",
       "      <th>SubRegion</th>\n",
       "      <th>Culture</th>\n",
       "    </tr>\n",
       "  </thead>\n",
       "  <tbody>\n",
       "    <tr>\n",
       "      <th>0</th>\n",
       "      <td>africa</td>\n",
       "      <td>central africa</td>\n",
       "      <td>azande</td>\n",
       "    </tr>\n",
       "    <tr>\n",
       "      <th>1</th>\n",
       "      <td>africa</td>\n",
       "      <td>central africa</td>\n",
       "      <td>barundi</td>\n",
       "    </tr>\n",
       "    <tr>\n",
       "      <th>2</th>\n",
       "      <td>africa</td>\n",
       "      <td>central africa</td>\n",
       "      <td>masa</td>\n",
       "    </tr>\n",
       "    <tr>\n",
       "      <th>3</th>\n",
       "      <td>africa</td>\n",
       "      <td>central africa</td>\n",
       "      <td>mbuti</td>\n",
       "    </tr>\n",
       "    <tr>\n",
       "      <th>4</th>\n",
       "      <td>africa</td>\n",
       "      <td>central africa</td>\n",
       "      <td>mongo</td>\n",
       "    </tr>\n",
       "    <tr>\n",
       "      <th>...</th>\n",
       "      <td>...</td>\n",
       "      <td>...</td>\n",
       "      <td>...</td>\n",
       "    </tr>\n",
       "    <tr>\n",
       "      <th>356</th>\n",
       "      <td>south-america</td>\n",
       "      <td>southern south america</td>\n",
       "      <td>mataco</td>\n",
       "    </tr>\n",
       "    <tr>\n",
       "      <th>357</th>\n",
       "      <td>south-america</td>\n",
       "      <td>southern south america</td>\n",
       "      <td>ona</td>\n",
       "    </tr>\n",
       "    <tr>\n",
       "      <th>358</th>\n",
       "      <td>south-america</td>\n",
       "      <td>southern south america</td>\n",
       "      <td>tehuelche</td>\n",
       "    </tr>\n",
       "    <tr>\n",
       "      <th>359</th>\n",
       "      <td>south-america</td>\n",
       "      <td>southern south america</td>\n",
       "      <td>terena</td>\n",
       "    </tr>\n",
       "    <tr>\n",
       "      <th>360</th>\n",
       "      <td>south-america</td>\n",
       "      <td>southern south america</td>\n",
       "      <td>yahgan</td>\n",
       "    </tr>\n",
       "  </tbody>\n",
       "</table>\n",
       "<p>361 rows × 3 columns</p>\n",
       "</div>"
      ],
      "text/plain": [
       "            Region               SubRegion    Culture\n",
       "0           africa          central africa     azande\n",
       "1           africa          central africa    barundi\n",
       "2           africa          central africa       masa\n",
       "3           africa          central africa      mbuti\n",
       "4           africa          central africa      mongo\n",
       "..             ...                     ...        ...\n",
       "356  south-america  southern south america     mataco\n",
       "357  south-america  southern south america        ona\n",
       "358  south-america  southern south america  tehuelche\n",
       "359  south-america  southern south america     terena\n",
       "360  south-america  southern south america     yahgan\n",
       "\n",
       "[361 rows x 3 columns]"
      ]
     },
     "execution_count": 47,
     "metadata": {},
     "output_type": "execute_result"
    }
   ],
   "source": [
    "df_cult"
   ]
  },
  {
   "cell_type": "code",
   "execution_count": 68,
   "metadata": {},
   "outputs": [],
   "source": [
    "df_cult['Culture'] = df_cult.Culture.apply(lambda x: list(x))\n",
    "df_cult_word =  df_cult.explode(column='Culture')"
   ]
  },
  {
   "cell_type": "code",
   "execution_count": 72,
   "metadata": {},
   "outputs": [
    {
     "data": {
      "text/plain": [
       "a    462\n",
       "n    240\n",
       "i    233\n",
       "e    207\n",
       "s    190\n",
       "o    179\n",
       "r    168\n",
       "u    153\n",
       "t    120\n",
       "l    109\n",
       "m    108\n",
       "h    106\n",
       "c     96\n",
       "      90\n",
       "k     84\n",
       "b     82\n",
       "g     53\n",
       "d     51\n",
       "p     46\n",
       "y     38\n",
       "w     27\n",
       "z     18\n",
       "v     18\n",
       "f     17\n",
       "j     17\n",
       "q     13\n",
       "-      7\n",
       "x      6\n",
       "1      6\n",
       "(      5\n",
       ")      5\n",
       "é      3\n",
       "4      2\n",
       "8      2\n",
       "5      2\n",
       "ó      2\n",
       "'      2\n",
       "/      2\n",
       "á      2\n",
       "0      1\n",
       "7      1\n",
       "3      1\n",
       "6      1\n",
       "í      1\n",
       "Name: Culture, dtype: int64"
      ]
     },
     "execution_count": 72,
     "metadata": {},
     "output_type": "execute_result"
    }
   ],
   "source": [
    "x = df_cult_word[\"Culture\"].value_counts()\n",
    "x"
   ]
  },
  {
   "cell_type": "code",
   "execution_count": 48,
   "metadata": {},
   "outputs": [
    {
     "data": {
      "text/plain": [
       "[['q', 'w', 'e'], ['r', 't', 'y']]"
      ]
     },
     "execution_count": 48,
     "metadata": {},
     "output_type": "execute_result"
    }
   ],
   "source": [
    "x = [['q','w','e']]\n",
    "y = ['r','t','y']\n",
    "x.append(y)\n",
    "x"
   ]
  },
  {
   "cell_type": "code",
   "execution_count": 51,
   "metadata": {},
   "outputs": [
    {
     "data": {
      "text/plain": [
       "['r', 'd', 'd']"
      ]
     },
     "execution_count": 51,
     "metadata": {},
     "output_type": "execute_result"
    }
   ],
   "source": [
    "xx = 'rdd'\n",
    "xx = list(xx)\n",
    "xx"
   ]
  },
  {
   "cell_type": "code",
   "execution_count": 1,
   "metadata": {},
   "outputs": [],
   "source": [
    "\n",
    "\n",
    "class color:\n",
    "   PURPLE = '\\033[95m'\n",
    "   CYAN = '\\033[96m'\n",
    "   DARKCYAN = '\\033[36m'\n",
    "   BLUE = '\\033[94m'\n",
    "   GREEN = '\\033[92m'\n",
    "   YELLOW = '\\033[93m'\n",
    "   RED = '\\033[91m'\n",
    "   BOLD = '\\033[1m'\n",
    "   UNDERLINE = '\\033[4m'\n",
    "   END = '\\033[0m'"
   ]
  },
  {
   "cell_type": "code",
   "execution_count": 22,
   "metadata": {},
   "outputs": [],
   "source": [
    "def color_app(string, *args):\n",
    "    text = string\n",
    "    for i in args:\n",
    "        i = i.upper()\n",
    "        try:\n",
    "            text = getattr(color, i) + text\n",
    "        except:\n",
    "            continue\n",
    "    text += color.END\n",
    "    return text"
   ]
  },
  {
   "cell_type": "code",
   "execution_count": 23,
   "metadata": {},
   "outputs": [
    {
     "name": "stdout",
     "output_type": "stream",
     "text": [
      "\u001b[4m\u001b[94mdolphin\u001b[0m\n"
     ]
    }
   ],
   "source": [
    "print( color_app(\"dolphin\", 'BLUE', 'UNDERLINE'))"
   ]
  },
  {
   "cell_type": "code",
   "execution_count": 8,
   "metadata": {},
   "outputs": [
    {
     "name": "stdout",
     "output_type": "stream",
     "text": [
      "hello \u001b[1m\u001b[91mWorld!\u001b[0m mate\n"
     ]
    }
   ],
   "source": [
    "print('hello ' + color.BOLD  + color.RED + 'World!' + color.END + ' mate')"
   ]
  },
  {
   "cell_type": "code",
   "execution_count": null,
   "metadata": {},
   "outputs": [],
   "source": [
    "import URL_generator"
   ]
  },
  {
   "cell_type": "code",
   "execution_count": 6,
   "metadata": {},
   "outputs": [
    {
     "data": {
      "text/plain": [
       "True"
      ]
     },
     "execution_count": 6,
     "metadata": {},
     "output_type": "execute_result"
    }
   ],
   "source": [
    "x = [0,1,2,3,4,5]\n",
    "x[0:-1]\n",
    "all(y<5 for y in x[0:-1])"
   ]
  },
  {
   "cell_type": "code",
   "execution_count": 12,
   "metadata": {},
   "outputs": [
    {
     "data": {
      "text/plain": [
       "[(2, 'Jack'), (4, 'Jane'), (1, 'Jill'), (3, 'Jim')]"
      ]
     },
     "execution_count": 12,
     "metadata": {},
     "output_type": "execute_result"
    }
   ],
   "source": [
    "people = {3: \"Jim\", 2: \"Jack\", 4: \"Jane\", 1: \"Jill\"}\n",
    "\n",
    "# Sort key\n",
    "def value_getter(rr):\n",
    "   return rr[1]\n",
    "\n",
    "sorted(people.items(), key=value_getter)\n"
   ]
  },
  {
   "cell_type": "code",
   "execution_count": 18,
   "metadata": {},
   "outputs": [
    {
     "name": "stdout",
     "output_type": "stream",
     "text": [
      "{2: 'Jack', 4: 'Jane', 1: 'Jill', 3: 'Jim'}\n"
     ]
    }
   ],
   "source": [
    "people = {3: \"Jim\", 2: \"Jack\", 4: \"Jane\", 1: \"Jill\"}\n",
    "sorted_people = sorted(people.items(), key=lambda item: item[1])\n",
    "sorted_people_dictone = dict(sorted_people)\n",
    "print(sorted_people_dictone)"
   ]
  },
  {
   "cell_type": "code",
   "execution_count": 19,
   "metadata": {},
   "outputs": [
    {
     "name": "stdout",
     "output_type": "stream",
     "text": [
      "{2: 'Jack', 4: 'Jane', 1: 'Jill', 3: 'Jim'}\n"
     ]
    }
   ],
   "source": [
    "sorted_people_dict = {}\n",
    "for key, value in sorted_people:\n",
    "    sorted_people_dict[key] = value\n",
    "\n",
    "print(sorted_people_dict)"
   ]
  },
  {
   "cell_type": "code",
   "execution_count": 20,
   "metadata": {},
   "outputs": [
    {
     "data": {
      "text/plain": [
       "True"
      ]
     },
     "execution_count": 20,
     "metadata": {},
     "output_type": "execute_result"
    }
   ],
   "source": [
    "sorted_people_dictone == sorted_people_dict"
   ]
  },
  {
   "cell_type": "code",
   "execution_count": 23,
   "metadata": {},
   "outputs": [
    {
     "data": {
      "text/plain": [
       "[2, 3, 4, 5, 7]"
      ]
     },
     "execution_count": 23,
     "metadata": {},
     "output_type": "execute_result"
    }
   ],
   "source": [
    "x = set([7,2,3,4,4,5])\n",
    "x = sorted(x)\n",
    "x"
   ]
  },
  {
   "cell_type": "code",
   "execution_count": 24,
   "metadata": {},
   "outputs": [
    {
     "name": "stdout",
     "output_type": "stream",
     "text": [
      "0 cultures:(\"azande\" OR \"mao\" OR \"tikopia\") AND (subjects:(\"sickness\" OR \"spirits and gods\" OR \"government institutions\") OR text:(\"apple\" OR \"grandma\" OR \"pear\")) \n",
      " https://ehrafworldcultures.yale.edu/search?q=cultures%3A%28%22azande%22+OR+%22mao%22+OR+%22tikopia%22%29+AND+%28subjects%3A%28%22sickness%22+OR+%22spirits+and+gods%22+OR+%22government+institutions%22%29+OR+text%3A%28%22apple%22+OR+%22grandma%22+OR+%22pear%22%29%29 \n",
      " The following inputs could not be searched:\n",
      "Subject: 9999, joiks\n",
      " \n",
      "\n",
      "\n",
      "\n",
      "1 cultures:(\"azande\" OR \"mao\" OR \"tikopia\") AND (subjects:(\"sickness\" OR \"spirits and gods\" OR \"government institutions\") OR text:(\"apple\" OR \"grandma\" OR \"pear\")) \n",
      " https://ehrafworldcultures.yale.edu/search?q=cultures%3A%28%22azande%22+OR+%22mao%22+OR+%22tikopia%22%29+AND+%28subjects%3A%28%22sickness%22+OR+%22spirits+and+gods%22+OR+%22government+institutions%22%29+OR+text%3A%28%22apple%22+OR+%22grandma%22+OR+%22pear%22%29%29 \n",
      " The following inputs could not be searched:\n",
      "Subject: 9999, joiks\n",
      " \n",
      "\n",
      "\n",
      "\n",
      "2 cultures:(\"azande\" OR \"mao\" OR \"tikopia\") AND (subjects:(\"sickness\" OR \"spirits and gods\" OR \"government institutions\") OR text:(\"grandma\" OR \"apple\" OR \"pear\")) \n",
      " https://ehrafworldcultures.yale.edu/search?q=cultures%3A%28%22azande%22+OR+%22mao%22+OR+%22tikopia%22%29+AND+%28subjects%3A%28%22sickness%22+OR+%22spirits+and+gods%22+OR+%22government+institutions%22%29+OR+text%3A%28%22grandma%22+OR+%22apple%22+OR+%22pear%22%29%29 \n",
      " The following inputs could not be searched:\n",
      "Subject: 9999, joiks\n",
      " \n",
      "\n",
      "\n",
      "\n",
      "3 cultures:(\"azande\" OR \"mao\" OR \"tikopia\") AND (subjects:(\"sickness\" OR \"spirits and gods\" OR \"government institutions\") OR text:(\"apple\" OR \"grandma\" OR \"pear\")) \n",
      " https://ehrafworldcultures.yale.edu/search?q=cultures%3A%28%22azande%22+OR+%22mao%22+OR+%22tikopia%22%29+AND+%28subjects%3A%28%22sickness%22+OR+%22spirits+and+gods%22+OR+%22government+institutions%22%29+OR+text%3A%28%22apple%22+OR+%22grandma%22+OR+%22pear%22%29%29 \n",
      " The following inputs could not be searched:\n",
      "Subject: 9999, joiks\n",
      " \n",
      "\n",
      "\n",
      "\n",
      "4 cultures:(\"azande\" OR \"mao\" OR \"tikopia\") AND (subjects:(\"sickness\" OR \"spirits and gods\" OR \"government institutions\") OR text:(\"grandma\" OR \"apple\" OR \"pear\")) \n",
      " https://ehrafworldcultures.yale.edu/search?q=cultures%3A%28%22azande%22+OR+%22mao%22+OR+%22tikopia%22%29+AND+%28subjects%3A%28%22sickness%22+OR+%22spirits+and+gods%22+OR+%22government+institutions%22%29+OR+text%3A%28%22grandma%22+OR+%22apple%22+OR+%22pear%22%29%29 \n",
      " The following inputs could not be searched:\n",
      "Subject: 9999, joiks\n",
      " \n",
      "\n",
      "\n",
      "\n",
      "5 cultures:(\"azande\" OR \"mao\" OR \"tikopia\") AND (subjects:(\"sickness\" OR \"spirits and gods\" OR \"government institutions\") OR text:(\"grandma\" OR \"apple\" OR \"pear\")) \n",
      " https://ehrafworldcultures.yale.edu/search?q=cultures%3A%28%22azande%22+OR+%22mao%22+OR+%22tikopia%22%29+AND+%28subjects%3A%28%22sickness%22+OR+%22spirits+and+gods%22+OR+%22government+institutions%22%29+OR+text%3A%28%22grandma%22+OR+%22apple%22+OR+%22pear%22%29%29 \n",
      " The following inputs could not be searched:\n",
      "Subject: 9999, joiks\n",
      " \n",
      "\n",
      "\n",
      "\n",
      "6 cultures:(\"mao\") AND (subjects:(\"sickness\") OR text:(\"apple\" OR \"pear\")) \n",
      " https://ehrafworldcultures.yale.edu/search?q=cultures%3A%28%22mao%22%29+AND+%28subjects%3A%28%22sickness%22%29+OR+text%3A%28%22apple%22+OR+%22pear%22%29%29 \n",
      " All inputs are valid \n",
      "\n",
      "\n",
      "\n",
      "False\n"
     ]
    }
   ],
   "source": [
    "import URL_generator as ug\n",
    "\n",
    "from importlib import reload\n",
    "ug = reload(ug)\n",
    "from URL_generator import URL_generator as ug\n",
    "\n",
    "# all 3\n",
    "# cult and Subj\n",
    "# cult and key\n",
    "# subj and key\n",
    "# cult\n",
    "# subj\n",
    "# key\n",
    "# none\n",
    "\n",
    "# preset all 3 used\n",
    "# URL = URL_generator(cultures, cult_conj, subjects, subjects_conj,concat_conj, keywords, keywords_conj)\n",
    "# cultures = [\"Mao, AzAnde\", \"Mao\", \"fake,cult, Rhade, GaRo\", \"\", \"Azande\", \"\", \"\", \"douas\"]\n",
    "# cult_conj =  [1,0,1,1,0,1,0,1]\n",
    "# subjects = [\"spirits and gods, joiks, 750, 9999, PoppYnESS\", \"729\", \"\", \"750, 750, 729\", \"idj\", \"729\", \"\", \"ksduf\"]\n",
    "# subjects_conj = [1,0,2,2,1,0,2,1]\n",
    "# concat_conj = [1,0,1,2,1,2,1,2]\n",
    "# keywords = [\"apple, grandma, pear\", \"\", \"apple\", \"pear, apple, grandma\", \"\", \"\", \"apple, pear\", \"\"]\n",
    "# keywords_conj = [1,2,0,2,1,2,1,0]\n",
    "# cultural_level_samples = ['EA', 'SRS']\n",
    "\n",
    "\n",
    "cultures = [\"Mao, AzAnde, Tikopia\", \"AzAnde, Mao, Tikopia\", \"AzAnde, Tikopia, Mao\", \"Tikopia, Mao, Azande\", \"Tikopia, AzAnde, Mao\", \"Mao, Tikopia, AzAnde\", \"Mao\"]\n",
    "cult_conj =  [1,1,1,1,1,1,1]\n",
    "subjects = [\"spirits and gods, joiks, 750, 9999, 640\", \"750, 9999, spirits and gods, joiks, 640\", \"750, 9999, joiks, 640, spirits and gods\", \"640, 750, 9999, joiks, spirits and gods\", \"640,  spirits and gods, 750, 9999, joiks\", \"spirits and gods, 640, 9999, joiks, 750\", \"750\"]\n",
    "subjects_conj = [1,1,1,1,1,1,1]\n",
    "concat_conj = [1,1,1,1,1,1,1]\n",
    "keywords = [\"apple, grandma, pear\", \"apple, pear, grandma\", \"pear, grandma, apple\", \"pear, apple, grandma\",\"Grandma, apple, PEaR\", \"Grandma, Pear, apple\", \"apple, pear\"]\n",
    "keywords_conj = [1,1,1,1,1,1,1]\n",
    "cultural_level_samples = []\n",
    "\n",
    "\n",
    "\n",
    "# 0 None\n",
    "# 1 any\n",
    "# 2 all\n",
    "final_phrase_check = []\n",
    "for i in range(len(cultures)):\n",
    "    URL_gen = ug()\n",
    "    URL = URL_gen.URL_generator(cultures=cultures[i],\n",
    "                           cult_conj=cult_conj[i],\n",
    "                           subjects=subjects[i],\n",
    "                           subjects_conj=subjects_conj[i],\n",
    "                           concat_conj= concat_conj[i],\n",
    "                           keywords= keywords[i],\n",
    "                           keywords_conj= keywords_conj[i],\n",
    "                           cultural_level_samples= cultural_level_samples)\n",
    "    final_phrase = URL_gen.final_phrase\n",
    "    invalid = URL_gen.invalid_inputs()\n",
    "    # invalid_search =\n",
    "    print(i, final_phrase, '\\n', URL, '\\n', invalid, '\\n\\n\\n')\n",
    "    final_phrase_check.append(final_phrase)\n",
    "print(all(y == final_phrase_check[0] for y in final_phrase_check[0:-1]))"
   ]
  },
  {
   "cell_type": "code",
   "execution_count": 26,
   "metadata": {},
   "outputs": [
    {
     "name": "stdout",
     "output_type": "stream",
     "text": [
      "False\n"
     ]
    }
   ],
   "source": [
    "print(all(y == final_phrase_check[0] for y in final_phrase_check[0:-1]))"
   ]
  },
  {
   "cell_type": "code",
   "execution_count": 4,
   "metadata": {},
   "outputs": [
    {
     "name": "stdout",
     "output_type": "stream",
     "text": [
      "[]\n"
     ]
    },
    {
     "ename": "IndexError",
     "evalue": "list index out of range",
     "output_type": "error",
     "traceback": [
      "\u001b[1;31m---------------------------------------------------------------------------\u001b[0m",
      "\u001b[1;31mIndexError\u001b[0m                                Traceback (most recent call last)",
      "\u001b[1;32md:\\Documents\\Python\\eHRAF_Scraper\\_tester.ipynb Cell 30\u001b[0m in \u001b[0;36m<module>\u001b[1;34m\u001b[0m\n\u001b[0;32m      <a href='vscode-notebook-cell:/d%3A/Documents/Python/eHRAF_Scraper/_tester.ipynb#X41sZmlsZQ%3D%3D?line=2'>3</a>\u001b[0m y \u001b[39m=\u001b[39m re\u001b[39m.\u001b[39mfindall(\u001b[39m'\u001b[39m\u001b[39m.*\u001b[39m\u001b[39m\\\u001b[39m\u001b[39m)(.*)\u001b[39m\u001b[39m'\u001b[39m, x)\n\u001b[0;32m      <a href='vscode-notebook-cell:/d%3A/Documents/Python/eHRAF_Scraper/_tester.ipynb#X41sZmlsZQ%3D%3D?line=3'>4</a>\u001b[0m \u001b[39mprint\u001b[39m(y)\n\u001b[1;32m----> <a href='vscode-notebook-cell:/d%3A/Documents/Python/eHRAF_Scraper/_tester.ipynb#X41sZmlsZQ%3D%3D?line=4'>5</a>\u001b[0m x \u001b[39m=\u001b[39m re\u001b[39m.\u001b[39msub(y[\u001b[39m0\u001b[39;49m], \u001b[39m'\u001b[39m\u001b[39m'\u001b[39m, x)\n\u001b[0;32m      <a href='vscode-notebook-cell:/d%3A/Documents/Python/eHRAF_Scraper/_tester.ipynb#X41sZmlsZQ%3D%3D?line=5'>6</a>\u001b[0m \u001b[39mprint\u001b[39m(x)\n",
      "\u001b[1;31mIndexError\u001b[0m: list index out of range"
     ]
    }
   ],
   "source": [
    "import re\n",
    "x = r'subjects~(%22sickness%22 OR %22preventive medicine%22 OR %22bodily injuries%22 OR %22sorcery%22)'\n",
    "y = re.findall('.*\\)(.*)', x)\n",
    "print(y)\n",
    "x = re.sub(y[0], '', x)\n",
    "print(x)"
   ]
  },
  {
   "cell_type": "code",
   "execution_count": 3,
   "metadata": {},
   "outputs": [
    {
     "data": {
      "text/plain": [
       "''"
      ]
     },
     "execution_count": 3,
     "metadata": {},
     "output_type": "execute_result"
    }
   ],
   "source": [
    "y[0]"
   ]
  },
  {
   "cell_type": "code",
   "execution_count": 5,
   "metadata": {},
   "outputs": [
    {
     "name": "stdout",
     "output_type": "stream",
     "text": [
      "['subsistence_types%7Chunter-gatherers%3Bculture_level_samples%7CPSF']\n"
     ]
    }
   ],
   "source": [
    "import re\n",
    "x = r'https://ehrafworldcultures.yale.edu/search?q=text%3Aapple&fq=subsistence_types%7Chunter-gatherers%3Bculture_level_samples%7CPSF'\n",
    "y = re.findall('.*(&fq=.*)', x)\n",
    "print(y)"
   ]
  },
  {
   "cell_type": "code",
   "execution_count": 11,
   "metadata": {},
   "outputs": [
    {
     "data": {
      "text/plain": [
       "'https://ehrafworldcultures.yale.edu/search?q=text%3Aapple'"
      ]
     },
     "execution_count": 11,
     "metadata": {},
     "output_type": "execute_result"
    }
   ],
   "source": [
    "import re\n",
    "x = r'https://ehrafworldcultures.yale.edu/search?q=text%3Aapple&fq=subsistence_types%7Chunter-gatherers%3Bculture_level_samples%7CPSF'\n",
    "y = re.findall('.*(&fq=.*)', x)\n",
    "if len(y) >0:\n",
    "    x = re.sub(y[0], '', x)\n",
    "x"
   ]
  },
  {
   "cell_type": "code",
   "execution_count": null,
   "metadata": {},
   "outputs": [],
   "source": [
    "replace_dict = {'%28':'(', '%29':')', '%3A':':', '%7C':'|', '%3B':';', '%22':'\\\"', '%27':'\\'', '\\+':' '}\n",
    "remove_list = ['https://ehrafworldcultures.yale.edu/', 'search', '\\?q='] #some characters are redundantly changed above so that it is easier to see what the characters mean (like %7C)\n",
    "replace_dict_file = {'fq=':'_FILTERS-', ':':'-', ' ':'_'}\n",
    "remove_list_file = ['\\\"', '\\'', ':','\\|','&']\n",
    "\n",
    "url = r'https://ehrafworldcultures.yale.edu/search?q=cultures%3A%22Miao%22+AND+%28subjects%3A%28%22spirits+and+gods%22+OR+%22burial+practices+and+funerals%22%29+AND+text%3A%28Apple+OR+pear+OR+banana%29%29&fq=document_types%7CJournal+Article%3Bpublished_date%7C1930%E2%80%931939%3Bsubsistence_types%7Cintensive+agriculturalists'\n",
    "file_name = url\n",
    "\n",
    "# replace HTML characters with their corresponding characters\n",
    "for key, val in replace_dict.items():\n",
    "    file_name = re.sub(key, val, file_name)\n",
    "print('File Name:\\n' + file_name+'\\n')\n",
    "#remove common undesirable characters \n",
    "for i in remove_list:\n",
    "    file_name = re.sub(i, '', file_name)\n",
    "\n",
    "input_name = file_name #save a copy before extra filtering as this will be sued later in the file\n",
    "input_filters = 'No filters'\n",
    "\n",
    "# regex for finding filters if they are there\n",
    "reg = re.findall('.*&fq=(.*)', file_name)\n",
    "print('reg:\\n' + reg[0]+'\\n')\n",
    "# if filters are present, reshape and beautify\n",
    "if len(reg) >0:\n",
    "    input_name = re.sub('&fq='+re.escape(reg[0]),'',input_name)\n",
    "    input_filters = reg[0]\n",
    "    file_filter = reg[0] #same as reg but now we can update it to fix the filtername\n",
    "    # # second regex for finding the actual filter names, Use if you want to extract only the filters themselves\n",
    "    # filter_names = [\"\".join(x) for x in re.findall('\\|(.*?);|\\|(.*?)$', reg[0])]\n",
    "    # # if using above, you can replace the filters with those in parenthesis, I removed this since it parenthesis words multiple times each if there were duplicates\n",
    "    # for i in filter_names:\n",
    "    #     file_filters = re.sub(i, f'({i})', file_filters)\n",
    "\n",
    "    # a few substitutions to get parenthesis around each of the filters\n",
    "    file_filter = re.sub('\\|','(',file_filter)\n",
    "    file_filter = re.sub(';','),',file_filter)\n",
    "    file_filter += ')'\n",
    "    print('File Filters:\\n' + file_filter+'\\n')\n",
    "\n",
    "    # Give a space between input filters for readability (and maybe splitting later)\n",
    "    input_filters = re.sub(';', ';\\n', input_filters)\n",
    "    input_filters = re.sub('_', ' ', input_filters)\n",
    "    print('Input Filters:\\n' +input_filters+'\\n')\n",
    "\n",
    "    # now add the corrected filters back to the URL file name,\n",
    "    file_name = re.sub(re.escape(reg[0]), file_filter, file_name)\n",
    "    print('File Name:\\n' + file_name+'\\n')\n",
    "\n",
    "# remove and replace the characters not good for a file name\n",
    "for key, val in replace_dict_file.items():\n",
    "    file_name = re.sub(key, val, file_name)\n",
    "for i in remove_list_file:\n",
    "    file_name = re.sub(i, '', file_name)\n",
    "print('File Name:\\n' + file_name+'\\n')\n",
    "print('Input Name:\\n' + input_name+'\\n')\n",
    "\n",
    "# for i in remove_list:\n",
    "#     file_name = re.sub(i, '', file_name)\n",
    "# input_name = file_name"
   ]
  },
  {
   "cell_type": "code",
   "execution_count": null,
   "metadata": {},
   "outputs": [],
   "source": []
  },
  {
   "cell_type": "code",
   "execution_count": 6,
   "metadata": {},
   "outputs": [
    {
     "name": "stdout",
     "output_type": "stream",
     "text": [
      "['t', 's']\n"
     ]
    }
   ],
   "source": [
    "x = ['', \"t\", \"\", \"s\"]\n",
    "print([i for i in x if i !=''])"
   ]
  },
  {
   "cell_type": "code",
   "execution_count": 18,
   "metadata": {},
   "outputs": [
    {
     "data": {
      "text/plain": [
       "['diet', 'Sub', '']"
      ]
     },
     "execution_count": 18,
     "metadata": {},
     "output_type": "execute_result"
    }
   ],
   "source": [
    "import re\n",
    "string_list = ['\\\"diet\\\"', \"\\'Sub\",'' ]\n",
    "# regex = re.findall(\"\\\"|\\'\", string_list[0])\n",
    "for i, string in enumerate(string_list):\n",
    "    string_list[i] = re.sub(\"\\\"|\\'\", '', string)\n",
    "string_list"
   ]
  },
  {
   "cell_type": "code",
   "execution_count": 19,
   "metadata": {},
   "outputs": [
    {
     "data": {
      "text/plain": [
       "True"
      ]
     },
     "execution_count": 19,
     "metadata": {},
     "output_type": "execute_result"
    }
   ],
   "source": [
    "r'^https://ehrafworldcultures.yale.edu/search?q=' == r'^https://ehrafworldcultures.yale.edu/search?q='"
   ]
  }
 ],
 "metadata": {
  "kernelspec": {
   "display_name": "Python 3.10.6",
   "language": "python",
   "name": "python3"
  },
  "language_info": {
   "codemirror_mode": {
    "name": "ipython",
    "version": 3
   },
   "file_extension": ".py",
   "mimetype": "text/x-python",
   "name": "python",
   "nbconvert_exporter": "python",
   "pygments_lexer": "ipython3",
   "version": "3.10.6"
  },
  "orig_nbformat": 4,
  "vscode": {
   "interpreter": {
    "hash": "3394e5ff5e37174aec0305e0ed7ec30b336f01a56a90646f493ecbcd8deec75b"
   }
  }
 },
 "nbformat": 4,
 "nbformat_minor": 2
}
